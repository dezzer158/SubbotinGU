{
  "nbformat": 4,
  "nbformat_minor": 0,
  "metadata": {
    "colab": {
      "provenance": []
    },
    "kernelspec": {
      "name": "python3",
      "display_name": "Python 3"
    },
    "language_info": {
      "name": "python"
    }
  },
  "cells": [
    {
      "cell_type": "code",
      "execution_count": 18,
      "metadata": {
        "colab": {
          "base_uri": "https://localhost:8080/"
        },
        "id": "V47tnaq7iMjZ",
        "outputId": "e122bb70-81ae-4f58-c0e4-26783a481e65"
      },
      "outputs": [
        {
          "output_type": "stream",
          "name": "stdout",
          "text": [
            "User ID: 2, Post ID: 11, Title: et ea vero quia laudantium autem\n",
            "User ID: 2, Post ID: 12, Title: in quibusdam tempore odit est dolorem\n",
            "User ID: 2, Post ID: 13, Title: dolorum ut in voluptas mollitia et saepe quo animi\n",
            "User ID: 2, Post ID: 14, Title: voluptatem eligendi optio\n",
            "User ID: 2, Post ID: 15, Title: eveniet quod temporibus\n",
            "User ID: 2, Post ID: 16, Title: sint suscipit perspiciatis velit dolorum rerum ipsa laboriosam odio\n",
            "User ID: 2, Post ID: 17, Title: fugit voluptas sed molestias voluptatem provident\n",
            "User ID: 2, Post ID: 18, Title: voluptate et itaque vero tempora molestiae\n",
            "User ID: 2, Post ID: 19, Title: adipisci placeat illum aut reiciendis qui\n",
            "User ID: 2, Post ID: 20, Title: doloribus ad provident suscipit at\n",
            "User ID: 4, Post ID: 31, Title: ullam ut quidem id aut vel consequuntur\n",
            "User ID: 4, Post ID: 32, Title: doloremque illum aliquid sunt\n",
            "User ID: 4, Post ID: 33, Title: qui explicabo molestiae dolorem\n",
            "User ID: 4, Post ID: 34, Title: magnam ut rerum iure\n",
            "User ID: 4, Post ID: 35, Title: id nihil consequatur molestias animi provident\n",
            "User ID: 4, Post ID: 36, Title: fuga nam accusamus voluptas reiciendis itaque\n",
            "User ID: 4, Post ID: 37, Title: provident vel ut sit ratione est\n",
            "User ID: 4, Post ID: 38, Title: explicabo et eos deleniti nostrum ab id repellendus\n",
            "User ID: 4, Post ID: 39, Title: eos dolorem iste accusantium est eaque quam\n",
            "User ID: 4, Post ID: 40, Title: enim quo cumque\n",
            "User ID: 6, Post ID: 51, Title: soluta aliquam aperiam consequatur illo quis voluptas\n",
            "User ID: 6, Post ID: 52, Title: qui enim et consequuntur quia animi quis voluptate quibusdam\n",
            "User ID: 6, Post ID: 53, Title: ut quo aut ducimus alias\n",
            "User ID: 6, Post ID: 54, Title: sit asperiores ipsam eveniet odio non quia\n",
            "User ID: 6, Post ID: 55, Title: sit vel voluptatem et non libero\n",
            "User ID: 6, Post ID: 56, Title: qui et at rerum necessitatibus\n",
            "User ID: 6, Post ID: 57, Title: sed ab est est\n",
            "User ID: 6, Post ID: 58, Title: voluptatum itaque dolores nisi et quasi\n",
            "User ID: 6, Post ID: 59, Title: qui commodi dolor at maiores et quis id accusantium\n",
            "User ID: 6, Post ID: 60, Title: consequatur placeat omnis quisquam quia reprehenderit fugit veritatis facere\n",
            "User ID: 8, Post ID: 71, Title: et iusto veniam et illum aut fuga\n",
            "User ID: 8, Post ID: 72, Title: sint hic doloribus consequatur eos non id\n",
            "User ID: 8, Post ID: 73, Title: consequuntur deleniti eos quia temporibus ab aliquid at\n",
            "User ID: 8, Post ID: 74, Title: enim unde ratione doloribus quas enim ut sit sapiente\n",
            "User ID: 8, Post ID: 75, Title: dignissimos eum dolor ut enim et delectus in\n",
            "User ID: 8, Post ID: 76, Title: doloremque officiis ad et non perferendis\n",
            "User ID: 8, Post ID: 77, Title: necessitatibus quasi exercitationem odio\n",
            "User ID: 8, Post ID: 78, Title: quam voluptatibus rerum veritatis\n",
            "User ID: 8, Post ID: 79, Title: pariatur consequatur quia magnam autem omnis non amet\n",
            "User ID: 8, Post ID: 80, Title: labore in ex et explicabo corporis aut quas\n",
            "User ID: 10, Post ID: 91, Title: aut amet sed\n",
            "User ID: 10, Post ID: 92, Title: ratione ex tenetur perferendis\n",
            "User ID: 10, Post ID: 93, Title: beatae soluta recusandae\n",
            "User ID: 10, Post ID: 94, Title: qui qui voluptates illo iste minima\n",
            "User ID: 10, Post ID: 95, Title: id minus libero illum nam ad officiis\n",
            "User ID: 10, Post ID: 96, Title: quaerat velit veniam amet cupiditate aut numquam ut sequi\n",
            "User ID: 10, Post ID: 97, Title: quas fugiat ut perspiciatis vero provident\n",
            "User ID: 10, Post ID: 98, Title: laboriosam dolor voluptates\n",
            "User ID: 10, Post ID: 99, Title: temporibus sit alias delectus eligendi possimus magni\n",
            "User ID: 10, Post ID: 100, Title: at nam consequatur ea labore ea harum\n",
            "{'title': 'Тестовый пост', 'body': 'asdfsdf', 'userId': 1, 'id': 101}\n",
            "{'title': 'Обновлённый пост', 'id': 100}\n"
          ]
        }
      ],
      "source": [
        "import requests\n",
        "\n",
        "def get_posts():\n",
        "  url = \"https://jsonplaceholder.typicode.com/posts\"\n",
        "  response = requests.get(url)\n",
        "  posts = response.json()\n",
        "  user_posts = [post for post in posts if post['userId'] % 2 == 0]\n",
        "  for post in user_posts:\n",
        "    print(f\"User ID: {post['userId']}, Post ID: {post['id']}, Title: {post['title']}\")\n",
        "\n",
        "\n",
        "\n",
        "def create_post():\n",
        "  url = \"https://jsonplaceholder.typicode.com/posts\"\n",
        "\n",
        "  post_data = {\n",
        "    \"title\": \"Тестовый пост\",\n",
        "    \"body\": \"asdfsdf\",\n",
        "    \"userId\": 1\n",
        "  }\n",
        "\n",
        "  response = requests.post(url, json=post_data)\n",
        "\n",
        "  print(response.json())\n",
        "  return response.json()\n",
        "\n",
        "\n",
        "\n",
        "\n",
        "\n",
        "def update_post(post_id):\n",
        "  url = f\"https://jsonplaceholder.typicode.com/posts/{post_id}\"\n",
        "\n",
        "\n",
        "  updated_data = {\n",
        "    \"title\": \"Обновлённый пост\"\n",
        "    }\n",
        "\n",
        "  response = requests.put(url, json=updated_data)\n",
        "  print(response.json())\n",
        "\n",
        "\n",
        "\n",
        "get_posts()\n",
        "create_post()\n",
        "update_post(100)\n"
      ]
    }
  ]
}